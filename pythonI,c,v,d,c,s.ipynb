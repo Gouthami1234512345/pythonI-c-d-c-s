{
 "cells": [
  {
   "cell_type": "code",
   "execution_count": 4,
   "id": "127d190d-512a-4bdb-b208-7789dca2456b",
   "metadata": {},
   "outputs": [
    {
     "name": "stdout",
     "output_type": "stream",
     "text": [
      "thisis python life\n"
     ]
    }
   ],
   "source": [
    "print(\"thisis python life\")"
   ]
  },
  {
   "cell_type": "code",
   "execution_count": 5,
   "id": "40e3d66d-3100-4bd3-adf6-881d7e71f7bf",
   "metadata": {},
   "outputs": [],
   "source": [
    "#commets\n",
    "#1)single line commet\n",
    "#It is used in #\n",
    "    \n",
    "#2)multiple line comment\n",
    "#It is used in ('''    ''')\n"
   ]
  },
  {
   "cell_type": "code",
   "execution_count": 6,
   "id": "2ba325d7-de33-4e6f-b235-c652dd245af3",
   "metadata": {},
   "outputs": [
    {
     "name": "stdout",
     "output_type": "stream",
     "text": [
      "this is an pythonlife\n"
     ]
    }
   ],
   "source": [
    "#python life\n",
    "print(\"this is an pythonlife\")"
   ]
  },
  {
   "cell_type": "code",
   "execution_count": 7,
   "id": "9426f51d-683d-404f-ace7-500b9d560877",
   "metadata": {},
   "outputs": [],
   "source": [
    "#varible\n",
    "#store the value\n",
    "#address of a value\n",
    "#syntax: variablename=value\n",
    "#rules:\n",
    "#1)Don't start with symbolor digits\n",
    "#2)starting with alphabets\n",
    "#3)case sentive"
   ]
  },
  {
   "cell_type": "code",
   "execution_count": 8,
   "id": "ee28d267-0c87-4da9-97c0-11da367dfcce",
   "metadata": {},
   "outputs": [
    {
     "name": "stdout",
     "output_type": "stream",
     "text": [
      "10\n"
     ]
    }
   ],
   "source": [
    "a=10\n",
    "print(a)"
   ]
  },
  {
   "cell_type": "code",
   "execution_count": 9,
   "id": "7e3b2491-90ae-4f2f-8eac-ecc3be2c8708",
   "metadata": {},
   "outputs": [
    {
     "ename": "TypeError",
     "evalue": "cannot unpack non-iterable int object",
     "output_type": "error",
     "traceback": [
      "\u001b[1;31m---------------------------------------------------------------------------\u001b[0m",
      "\u001b[1;31mTypeError\u001b[0m                                 Traceback (most recent call last)",
      "Cell \u001b[1;32mIn[9], line 1\u001b[0m\n\u001b[1;32m----> 1\u001b[0m a,b,c\u001b[38;5;241m=\u001b[39m\u001b[38;5;241m10\u001b[39m\n\u001b[0;32m      2\u001b[0m \u001b[38;5;28mprint\u001b[39m(a)\n",
      "\u001b[1;31mTypeError\u001b[0m: cannot unpack non-iterable int object"
     ]
    }
   ],
   "source": [
    "a,b,c=10\n",
    "print(a)"
   ]
  },
  {
   "cell_type": "code",
   "execution_count": null,
   "id": "e04f819f-42bd-4c66-bf64-01b46e131c62",
   "metadata": {},
   "outputs": [],
   "source": [
    "c=1,3,4\n",
    "print(c)"
   ]
  },
  {
   "cell_type": "code",
   "execution_count": null,
   "id": "0d328372-b711-469f-845c-4ad65a9a7b84",
   "metadata": {},
   "outputs": [],
   "source": [
    "c=v=x=10\n",
    "print(c,v,x)"
   ]
  },
  {
   "cell_type": "code",
   "execution_count": null,
   "id": "84cf732f-fc88-4809-97cb-c16f3f30302f",
   "metadata": {},
   "outputs": [],
   "source": [
    "a,b,c=1,3,6\n",
    "print(a,b,c)"
   ]
  },
  {
   "cell_type": "code",
   "execution_count": null,
   "id": "d64f81a0-8493-48b0-82f2-96408577fe71",
   "metadata": {},
   "outputs": [],
   "source": [
    "#datatypes:\n",
    "int\n",
    "float\n",
    "string\n",
    "boolean \n",
    "complex \n",
    "list\n",
    "tuple\n",
    "set\n",
    "dictionary"
   ]
  },
  {
   "cell_type": "code",
   "execution_count": null,
   "id": "76245783-c884-44f6-a548-fb8279bb447e",
   "metadata": {},
   "outputs": [],
   "source": [
    "#int\n",
    "a=1\n",
    "b=-22\n",
    "print(type(a),type(b))"
   ]
  },
  {
   "cell_type": "code",
   "execution_count": null,
   "id": "5c1091a1-fd9f-4510-8544-a07e8ffc593d",
   "metadata": {},
   "outputs": [],
   "source": [
    "a=\"true\"\n",
    "b=\"false\"\n",
    "print(type(a),type(b))"
   ]
  },
  {
   "cell_type": "code",
   "execution_count": null,
   "id": "3c531a93-7aae-4ffb-8f06-841ebd953fbe",
   "metadata": {},
   "outputs": [],
   "source": [
    "#float\n",
    "c=44.3\n",
    "print(type(c))"
   ]
  },
  {
   "cell_type": "code",
   "execution_count": null,
   "id": "b4d5d1dc-8161-482a-97b9-7c0921ae0cfc",
   "metadata": {},
   "outputs": [],
   "source": [
    "a=2+5j\n",
    "print(type(a))"
   ]
  },
  {
   "cell_type": "code",
   "execution_count": null,
   "id": "6e0d1a7c-5a89-45f5-8202-c43229829f8b",
   "metadata": {},
   "outputs": [],
   "source": [
    "a=2\n",
    "print(float(a))"
   ]
  },
  {
   "cell_type": "code",
   "execution_count": null,
   "id": "e79b1f17-66fd-465d-a980-71d9d756a8bb",
   "metadata": {},
   "outputs": [],
   "source": [
    "b=33.5\n",
    "print(int(a))"
   ]
  },
  {
   "cell_type": "code",
   "execution_count": null,
   "id": "857b4504-2b25-4841-b40a-e81e36ce53ae",
   "metadata": {},
   "outputs": [],
   "source": [
    "#control statements\n",
    "conditional statements\n",
    "looping statements\n",
    "jumping statements"
   ]
  },
  {
   "cell_type": "code",
   "execution_count": null,
   "id": "1de7e76f-1f33-4a32-bd7b-394b2c277946",
   "metadata": {},
   "outputs": [],
   "source": [
    "#conditional\n",
    "if\n",
    "else\n",
    "elif\n",
    "nested if\n",
    "    "
   ]
  },
  {
   "cell_type": "code",
   "execution_count": null,
   "id": "b8b014cd-757b-432b-b889-18ef9d36754c",
   "metadata": {},
   "outputs": [],
   "source": [
    "#if statements\n",
    "age=18\n",
    "if 18>'18':\n",
    "print(\"you can vote\")\n",
    "elif age==18\n",
    "print(\"you can vote\")\n",
    "else:\n",
    "print(\"wait\")"
   ]
  },
  {
   "cell_type": "code",
   "execution_count": null,
   "id": "494bc26d-f132-46f6-a9af-0feb316dd019",
   "metadata": {},
   "outputs": [],
   "source": [
    "if True:\n",
    "    print(\"I am if\")\n",
    "elif True:\n",
    "    print(\"I am elif\")\n",
    "else:\n",
    "    print(\"I am else\")"
   ]
  },
  {
   "cell_type": "code",
   "execution_count": null,
   "id": "11d56f85-4f8c-4d99-9ca2-e24dc61d6924",
   "metadata": {},
   "outputs": [],
   "source": [
    "#Nested if\n",
    "if True:\n",
    "    print(\"hi\")\n",
    "    if True:\n",
    "        print(\"hello if\")"
   ]
  },
  {
   "cell_type": "code",
   "execution_count": null,
   "id": "6be80cb2-522e-432e-a7b0-dae2d13f0086",
   "metadata": {},
   "outputs": [],
   "source": [
    "if True:\n",
    "    print(\"hello if\")\n",
    "    if True:\n",
    "        print(\"hello true\")\n",
    "    else:\n",
    "        print(\"hello else\")\n",
    "        print(\"bye else\")"
   ]
  },
  {
   "cell_type": "code",
   "execution_count": null,
   "id": "7f96819d-4c53-4cb1-acc2-f007bf09ccb8",
   "metadata": {},
   "outputs": [],
   "source": [
    "#looping statements:\n",
    "#for loop\n",
    "for i in range(0,10):\n",
    " print(i)"
   ]
  },
  {
   "cell_type": "code",
   "execution_count": null,
   "id": "3adbfc6b-1214-4f5e-b069-eeb944b1691d",
   "metadata": {},
   "outputs": [],
   "source": [
    "a=\"python life\"\n",
    "for k in a:\n",
    "    print(k)"
   ]
  },
  {
   "cell_type": "code",
   "execution_count": null,
   "id": "35f58ac9-e121-4969-bbd6-febb7f24ac0b",
   "metadata": {},
   "outputs": [],
   "source": [
    "#while loop\n",
    "kiran=9\n",
    "while kiran<15:\n",
    "    print(\"hii\", kiran)\n",
    "    kiran+=1"
   ]
  },
  {
   "cell_type": "code",
   "execution_count": null,
   "id": "a48d86c2-e4fa-483b-a0db-ef509d707667",
   "metadata": {},
   "outputs": [],
   "source": [
    "#Nested if \n",
    "for i in range(0,7):\n",
    "    for j in range (0,10):\n",
    "        print(i+j)"
   ]
  },
  {
   "cell_type": "code",
   "execution_count": null,
   "id": "721efcb5-8643-4935-a3bb-0c8fb67c522f",
   "metadata": {},
   "outputs": [],
   "source": [
    "#jumping statements\n",
    "#break\n",
    "#pass\n",
    "#continue\n"
   ]
  },
  {
   "cell_type": "code",
   "execution_count": null,
   "id": "fb2fc25a-464d-4503-87ad-535f3226c1c2",
   "metadata": {},
   "outputs": [],
   "source": [
    "#Pass: \n",
    "syntax:\n",
    "def function:\n",
    "pass\n",
    "    "
   ]
  },
  {
   "cell_type": "code",
   "execution_count": null,
   "id": "eca20e96-8391-4f38-a8b3-b9f811a81d56",
   "metadata": {},
   "outputs": [],
   "source": [
    "for alphabet in 'telangana':\n",
    "     if(alphabet == 'g'):\n",
    "         pass\n",
    "else:\n",
    "    print(alphabet)"
   ]
  },
  {
   "cell_type": "code",
   "execution_count": null,
   "id": "ca924a13-80dd-4b7f-8751-d7c13eac9de2",
   "metadata": {},
   "outputs": [],
   "source": [
    "# Traversing through every character of the string\n",
    "for alphabet in 'Legends':\n",
    "         # If alphabet='g' program will do nothing and won't print the letter\n",
    "    if(alphabet == 'g'):\n",
    "        pass\n",
    "    else:\n",
    "        \n",
    "        print(alphabet)"
   ]
  },
  {
   "cell_type": "code",
   "execution_count": null,
   "id": "710a5a44-44cc-46e9-9195-18372b356c0d",
   "metadata": {},
   "outputs": [],
   "source": [
    "#break:\n",
    "syntax:\n",
    "loop{\n",
    "condition:\n",
    "    break\n",
    "}"
   ]
  },
  {
   "cell_type": "code",
   "execution_count": null,
   "id": "be0410b6-126e-465f-82db-2db02f4b6376",
   "metadata": {},
   "outputs": [],
   "source": [
    "for i in \"pythonlife\":\n",
    "    if i=='l':\n",
    "       break\n",
    "    print(i)"
   ]
  },
  {
   "cell_type": "code",
   "execution_count": null,
   "id": "3a641d94-28e7-479a-a453-9d983483b1e7",
   "metadata": {},
   "outputs": [],
   "source": [
    "    #continue:\n",
    "syntax:\n",
    "while True:\n",
    "    ...\n",
    "    if x==100:\n",
    "        continue\n",
    "        print(x)"
   ]
  },
  {
   "cell_type": "raw",
   "id": "f624c47d-e0b9-4871-977e-57e7081c6798",
   "metadata": {},
   "source": [
    "for i in \"pythonlife\":\n",
    "   if i=='l':\n",
    "      continue\n",
    "   print(i)"
   ]
  },
  {
   "cell_type": "code",
   "execution_count": null,
   "id": "e2d9814c-31b9-41b7-91a7-ec8f341697cd",
   "metadata": {},
   "outputs": [],
   "source": [
    "7)Strings\n",
    "collection of a character\n",
    "typesof a strings\n",
    "1)single quotes(' ')\n",
    "2)double quotes(\"   \")\n",
    "3)triple quotes('''   ''')"
   ]
  },
  {
   "cell_type": "raw",
   "id": "08930f21-e9f3-4fb6-a7a4-d81c2d191d56",
   "metadata": {},
   "source": [
    "string methods\n",
    "1)Lower\n",
    "2)Upper\n",
    "3)Ends with\n",
    "4)Starts with\n",
    "5)Count\n",
    "6)Replace\n",
    "7)Split\n",
    "8)Strip\n",
    "9)Rstrip\n",
    "10)Lstrip\n",
    "11)Index \n",
    "12)Find\n",
    "13)Remove Prefix\n",
    "14)Remove Suffix"
   ]
  },
  {
   "cell_type": "code",
   "execution_count": 30,
   "id": "cabf21df-b822-4aad-b0a4-8a84013c4aea",
   "metadata": {},
   "outputs": [
    {
     "name": "stdout",
     "output_type": "stream",
     "text": [
      "<class 'str'> <class 'str'> <class 'str'>\n"
     ]
    }
   ],
   "source": [
    "a='python life'\n",
    "b=\"python life\"\n",
    "c='''python life'''\n",
    "print(type(a),type(b),type(c))"
   ]
  },
  {
   "cell_type": "code",
   "execution_count": 36,
   "id": "e4013c46-8c3c-4db4-a5d2-12a5c90d6ad7",
   "metadata": {},
   "outputs": [
    {
     "name": "stdout",
     "output_type": "stream",
     "text": [
      "python language\n"
     ]
    }
   ],
   "source": [
    "#Lower():\n",
    "pythonlife=\"PYTHON LANGUAGE\"\n",
    "print(pythonlife.lower())"
   ]
  },
  {
   "cell_type": "code",
   "execution_count": 38,
   "id": "f344e0b4-1717-4dc0-ac04-59b44d1e19fd",
   "metadata": {},
   "outputs": [
    {
     "name": "stdout",
     "output_type": "stream",
     "text": [
      "PYTHON LANGUAGE\n"
     ]
    }
   ],
   "source": [
    "#Upper()\n",
    "pythonlife=\"python language\"\n",
    "print(pythonlife.upper())"
   ]
  },
  {
   "cell_type": "code",
   "execution_count": 42,
   "id": "7ac9b946-f34b-404e-9d13-51b6aa098068",
   "metadata": {},
   "outputs": [
    {
     "name": "stdout",
     "output_type": "stream",
     "text": [
      "True\n"
     ]
    }
   ],
   "source": [
    "#Endswith\n",
    "pythonlife=\"python language\"\n",
    "print(pythonlife.endswith(\"language\",))"
   ]
  },
  {
   "cell_type": "code",
   "execution_count": 56,
   "id": "9886b68a-1d25-480e-b3da-ab15dace1445",
   "metadata": {},
   "outputs": [
    {
     "name": "stdout",
     "output_type": "stream",
     "text": [
      "True\n"
     ]
    }
   ],
   "source": [
    "#Startswith\n",
    "pythonlife=\"python language\"\n",
    "print(pythonlife.startswith(\"python\"))"
   ]
  },
  {
   "cell_type": "code",
   "execution_count": 60,
   "id": "55f3d951-2882-4db2-9948-76b772fb3211",
   "metadata": {},
   "outputs": [
    {
     "name": "stdout",
     "output_type": "stream",
     "text": [
      "programming language\n"
     ]
    }
   ],
   "source": [
    "#Replace()\n",
    "pythonlife=\"python language\"\n",
    "print(pythonlife.replace(\"python\",\"programming\"))"
   ]
  },
  {
   "cell_type": "code",
   "execution_count": 62,
   "id": "04079fea-2af2-480e-849e-8f900467ba55",
   "metadata": {},
   "outputs": [
    {
     "name": "stdout",
     "output_type": "stream",
     "text": [
      "0\n"
     ]
    }
   ],
   "source": [
    "#find\n",
    "pythonlife=\"python language\"\n",
    "print(pythonlife.find(\"python\"))"
   ]
  },
  {
   "cell_type": "code",
   "execution_count": 66,
   "id": "20acd71e-521e-4ace-84e6-3380ceda0cf6",
   "metadata": {},
   "outputs": [
    {
     "name": "stdout",
     "output_type": "stream",
     "text": [
      "-1\n"
     ]
    }
   ],
   "source": [
    "#find\n",
    "pythonlife=\"python language\"\n",
    "print(pythonlife.find(\"hanaa\"))"
   ]
  },
  {
   "cell_type": "code",
   "execution_count": 68,
   "id": "983581d2-aae3-4ed3-b53f-472b2949a8bd",
   "metadata": {},
   "outputs": [
    {
     "ename": "ValueError",
     "evalue": "substring not found",
     "output_type": "error",
     "traceback": [
      "\u001b[1;31m---------------------------------------------------------------------------\u001b[0m",
      "\u001b[1;31mValueError\u001b[0m                                Traceback (most recent call last)",
      "Cell \u001b[1;32mIn[68], line 3\u001b[0m\n\u001b[0;32m      1\u001b[0m \u001b[38;5;66;03m#index\u001b[39;00m\n\u001b[0;32m      2\u001b[0m pythonlife\u001b[38;5;241m=\u001b[39m\u001b[38;5;124m\"\u001b[39m\u001b[38;5;124mpython language\u001b[39m\u001b[38;5;124m\"\u001b[39m\n\u001b[1;32m----> 3\u001b[0m \u001b[38;5;28mprint\u001b[39m(pythonlife\u001b[38;5;241m.\u001b[39mindex(\u001b[38;5;124m\"\u001b[39m\u001b[38;5;124mhanaa\u001b[39m\u001b[38;5;124m\"\u001b[39m))\n",
      "\u001b[1;31mValueError\u001b[0m: substring not found"
     ]
    }
   ],
   "source": [
    "#index\n",
    "pythonlife=\"python language\"\n",
    "print(pythonlife.index(\"hanaa\"))"
   ]
  },
  {
   "cell_type": "code",
   "execution_count": 72,
   "id": "a58f211d-ab7a-4c09-8721-a376d7d97b23",
   "metadata": {},
   "outputs": [
    {
     "name": "stdout",
     "output_type": "stream",
     "text": [
      "0\n"
     ]
    }
   ],
   "source": [
    "#index\n",
    "pythonlife=\"python language\"\n",
    "print(pythonlife.index(\"python\"))"
   ]
  },
  {
   "cell_type": "code",
   "execution_count": 74,
   "id": "6e718bee-7c76-483a-8b9f-ce4c5a9dbd56",
   "metadata": {},
   "outputs": [
    {
     "name": "stdout",
     "output_type": "stream",
     "text": [
      "2\n"
     ]
    }
   ],
   "source": [
    "#count\n",
    "\n",
    "pythonlife=\"python language\"\n",
    "print(pythonlife.count(\"g\"))"
   ]
  },
  {
   "cell_type": "code",
   "execution_count": 78,
   "id": "7000d6f9-e37f-48cb-abac-2331fd6a73ed",
   "metadata": {},
   "outputs": [
    {
     "name": "stdout",
     "output_type": "stream",
     "text": [
      " language\n"
     ]
    }
   ],
   "source": [
    "#remove prefix\n",
    "\n",
    "pythonlife=\"python language\"\n",
    "print(pythonlife.removeprefix(\"python\"))\n",
    "\n"
   ]
  },
  {
   "cell_type": "code",
   "execution_count": 82,
   "id": "fff52651-e28f-4730-8409-09e0c1bf10b8",
   "metadata": {},
   "outputs": [
    {
     "name": "stdout",
     "output_type": "stream",
     "text": [
      "python \n"
     ]
    }
   ],
   "source": [
    "#remove suffix\n",
    "\n",
    "pythonlife=\"python language\"\n",
    "print(pythonlife.removesuffix(\"language\"))"
   ]
  },
  {
   "cell_type": "code",
   "execution_count": 86,
   "id": "d7d77c24-c4fa-4174-8d94-b6747ed3bf78",
   "metadata": {},
   "outputs": [
    {
     "name": "stdout",
     "output_type": "stream",
     "text": [
      "['python', 'language']\n"
     ]
    }
   ],
   "source": [
    "#Spilt\n",
    "\n",
    "pythonlife=\"python language\"\n",
    "print(pythonlife.split())"
   ]
  },
  {
   "cell_type": "code",
   "execution_count": 90,
   "id": "8ff92582-b7fe-40f0-afdf-a39195e14e06",
   "metadata": {},
   "outputs": [
    {
     "name": "stdout",
     "output_type": "stream",
     "text": [
      "     python language     \n",
      "25\n",
      "python language\n"
     ]
    }
   ],
   "source": [
    "#strip\n",
    "\n",
    "pythonlife=\"     python language     \"\n",
    "print(pythonlife)\n",
    "print(len(pythonlife))\n",
    "print(pythonlife.strip())"
   ]
  },
  {
   "cell_type": "code",
   "execution_count": 98,
   "id": "c0d6752e-4499-4799-8564-ee2364da92b6",
   "metadata": {},
   "outputs": [
    {
     "name": "stdout",
     "output_type": "stream",
     "text": [
      "     python language     \n",
      "25\n",
      "15\n",
      "20\n"
     ]
    }
   ],
   "source": [
    "#rstrip and lstrip\n",
    "\n",
    "pythonlife=\"     python language     \"\n",
    "print(pythonlife)\n",
    "print(len(pythonlife))\n",
    "v=pythonlife.strip()\n",
    "print(len(v))\n",
    "v=pythonlife.lstrip()\n",
    "print(len(v))\n",
    "v=pythonlife.rstrip()\n"
   ]
  },
  {
   "cell_type": "code",
   "execution_count": 107,
   "id": "c9609661-e866-4779-b6c9-c9745f8d3c8d",
   "metadata": {},
   "outputs": [
    {
     "name": "stdout",
     "output_type": "stream",
     "text": [
      "15\n",
      "20\n"
     ]
    }
   ],
   "source": [
    "#rstrip and lstrip\n",
    "\n",
    "pythonlife=\"     python language     \"\n",
    "\n",
    "v=pythonlife.strip()\n",
    "print(len(v))\n",
    "v=pythonlife.lstrip()\n",
    "print(len(v))\n",
    "v=pythonlife.rstrip()\n"
   ]
  },
  {
   "cell_type": "code",
   "execution_count": null,
   "id": "0ce08a2c-c41c-4d76-992b-c9c2a9d92c4f",
   "metadata": {},
   "outputs": [],
   "source": []
  },
  {
   "cell_type": "code",
   "execution_count": null,
   "id": "8d9bdcce-c8e6-44ab-bf85-dc8dd25fee75",
   "metadata": {},
   "outputs": [],
   "source": []
  }
 ],
 "metadata": {
  "kernelspec": {
   "display_name": "Python 3 (ipykernel)",
   "language": "python",
   "name": "python3"
  },
  "language_info": {
   "codemirror_mode": {
    "name": "ipython",
    "version": 3
   },
   "file_extension": ".py",
   "mimetype": "text/x-python",
   "name": "python",
   "nbconvert_exporter": "python",
   "pygments_lexer": "ipython3",
   "version": "3.12.4"
  }
 },
 "nbformat": 4,
 "nbformat_minor": 5
}
